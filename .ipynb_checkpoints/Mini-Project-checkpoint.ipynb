{
 "cells": [
  {
   "cell_type": "markdown",
   "metadata": {},
   "source": [
    "## Cuisine prediction using recipe-ingredient data"
   ]
  },
  {
   "cell_type": "markdown",
   "metadata": {},
   "source": [
    "### 1. Proposal"
   ]
  },
  {
   "cell_type": "markdown",
   "metadata": {},
   "source": [
    "In this project, we aim to design a prediction system that uses recipe-ingredient data to predict the cuisine of a given recipe. We aim to utilize and consequently compare techniques from following domains: Simple (baseline) heuristics, Machine Learning, and Network-based heuristics\n",
    "\n",
    "**Techniques we would try:**\n",
    "\n",
    "1. Simple heuristics (these will serve as our baseline models)\n",
    "    1. Baseline #1: ​For each ingredient belonging to the given test ingredient list, find the cuisine in which this ingredient is used the most. Among all such cuisines, pick the most frequently occurring cuisine\n",
    "    2. Baseline #2: ​Rank the set of training recipes based on number of ingredients common with test ingredient list. Assign weights to recipes based on their rank and add to scores of their corresponding cuisines. Finally, choose the cuisine with the highest score\n",
    "2. Machine Learning Domain\n",
    "    1. Models such as ​Neural Networks, SVMs​ to be evaluated\n",
    "    2. Models such as ​Neural Networks, SVMs​ to be evaluated with ​Node2Vec\n",
    "    embeddings​ as features (where each node corresponds to an ingredient; and the\n",
    "    graph is the unipartite projection recipe-ingredient bipartite network)\n",
    "3. Network-based heuristics\n",
    "    1. Do ​clustering​ on ingredient-ingredient network (projection of original bipartite\n",
    "    recipe-ingredient network) using hierarchical clustering algorithms. We try to choose clusters at a level such that #clusters = #cuisines in our train set\n",
    "    We ​analyze​ if these generated clusters have one-to-one correlation with different cuisines. If yes, we can use these clusters to create a prediction heuristic in which the cuisine having most number of test ingredients (i.e. the cluster having most number of nodes out of a given set of nodes) is picked\n",
    "    2. Do ​clustering​ of ingredients using ​K-means​ on Node2Vec embeddings of ingredient-ingredient network(we set K = # cuisines). We ​analyze​ if these generated clusters have one-to-one correlation with different cuisines. If yes, we can use these clusters to create a prediction heuristic in which the cuisine having most number of test ingredients (i.e. the cluster having most number of nodes out of a given set of nodes) is picked\n",
    "    3. Consider the recipe-ingredient bipartite network. For every ingredient in test list, we do: add ​w​ to scores of cuisines of recipes that are at ​distance​ of 1 from that ingredient, add ​w/2​ to scores of cuisines of recipes that are at ​distance​ of 3 from that ingredient and so on. This is done for each ingredient in the test list and the cuisine with highest score is chosen."
   ]
  },
  {
   "cell_type": "markdown",
   "metadata": {},
   "source": [
    "### 2. Getting to know the data"
   ]
  },
  {
   "cell_type": "markdown",
   "metadata": {},
   "source": [
    "Print statistics about the train data"
   ]
  },
  {
   "cell_type": "code",
   "execution_count": 17,
   "metadata": {},
   "outputs": [
    {
     "name": "stdout",
     "output_type": "stream",
     "text": [
      "Total number of recipes: 39774\n",
      "Number of cuisines: 20\n",
      "Number of ingredients: 6714\n"
     ]
    },
    {
     "data": {
      "image/png": "[encoded data removed]",
      "text/plain": [
       "<Figure size 432x288 with 1 Axes>"
      ]
     },
     "metadata": {},
     "output_type": "display_data"
    },
    {
     "name": "stdout",
     "output_type": "stream",
     "text": [
      "Summary statistics of above graph\n",
      "            series\n",
      "count    20.000000\n",
      "mean   1988.700000\n",
      "std    2041.558772\n",
      "min     467.000000\n",
      "25%     791.750000\n",
      "50%    1082.000000\n",
      "75%    2652.750000\n",
      "max    7838.000000\n"
     ]
    },
    {
     "data": {
      "image/png": "[encoded data removed]",
      "text/plain": [
       "<Figure size 432x288 with 1 Axes>"
      ]
     },
     "metadata": {},
     "output_type": "display_data"
    },
    {
     "name": "stdout",
     "output_type": "stream",
     "text": [
      "Summary statistics of above graph\n",
      "             series\n",
      "count   6714.000000\n",
      "mean      63.788353\n",
      "std      388.355948\n",
      "min        1.000000\n",
      "25%        1.000000\n",
      "50%        4.000000\n",
      "75%       20.000000\n",
      "max    18049.000000\n",
      "Average number of ingredients per recipe: 10.7677125761\n",
      "Std. dev. number of ingredients per recipe: 4.42892189306\n"
     ]
    }
   ],
   "source": [
    "import json\n",
    "import numpy as np\n",
    "\n",
    "cuisines = set()\n",
    "ingredients = set()\n",
    "\n",
    "cuisine_count_map = {}\n",
    "ingredient_count_map = {}\n",
    "\n",
    "num_ingredients_per_recipe = []\n",
    "\n",
    "def show_hist_of_dict(count_map, y_label, x_label):\n",
    "    import matplotlib.pyplot as plt\n",
    "    % matplotlib inline\n",
    "    fig, ax = plt.subplots(1, 1)\n",
    "    ax.set_xlabel(x_label)\n",
    "    ax.set_ylabel(y_label)\n",
    "    ax.hist(count_map.values(), ec='black')\n",
    "    plt.show()\n",
    "    \n",
    "    # print summary statistics\n",
    "    print('Summary statistics of above graph')\n",
    "    import pandas as pd\n",
    "    series = {'series': pd.Series(count_map.values())}\n",
    "    data_frame = pd.DataFrame(series)\n",
    "    print(data_frame.describe())\n",
    "\n",
    "\n",
    "with open('whats-cooking/train.json', 'r') as file:\n",
    "    data = json.load(file)\n",
    "    \n",
    "    # print number of recipes\n",
    "    print('Total number of recipes: {}'.format(len(data)))\n",
    "    \n",
    "    for recipe in data:\n",
    "    \n",
    "        # stats on number of cuisines\n",
    "        cuisines.add(recipe['cuisine'])\n",
    "        if recipe['cuisine'] not in cuisine_count_map:\n",
    "            cuisine_count_map[recipe['cuisine']] = 0\n",
    "        cuisine_count_map[recipe['cuisine']] += 1\n",
    "        \n",
    "        # stats on number of ingredients\n",
    "        num_ingredients_per_recipe.append(len(recipe['ingredients']))\n",
    "        for ingredient in recipe['ingredients']:\n",
    "            ingredients.add(ingredient)\n",
    "            \n",
    "            if ingredient not in ingredient_count_map:\n",
    "                ingredient_count_map[ingredient] = 0\n",
    "            ingredient_count_map[ingredient] += 1\n",
    "    \n",
    "    print('Number of cuisines: {}'.format(len(cuisines)))\n",
    "    print('Number of ingredients: {}'.format(len(ingredients)))\n",
    "    \n",
    "    # show histogram of ingredients and cuisines\n",
    "    show_hist_of_dict(cuisine_count_map, '# of cuisines', '# of occurrences')\n",
    "    show_hist_of_dict(ingredient_count_map, '# of ingredients', '# of occurrences')\n",
    "    \n",
    "    # print average number of ingredients per recipe\n",
    "    print('Average number of ingredients per recipe: {}'.format(np.mean(num_ingredients_per_recipe)))\n",
    "    print('Std. dev. number of ingredients per recipe: {}'.format(np.std(num_ingredients_per_recipe)))"
   ]
  },
  {
   "cell_type": "markdown",
   "metadata": {},
   "source": [
    "Print statistics about the test data"
   ]
  },
  {
   "cell_type": "code",
   "execution_count": 21,
   "metadata": {},
   "outputs": [
    {
     "name": "stdout",
     "output_type": "stream",
     "text": [
      "Total number of recipes: 9944\n",
      "Number of ingredients: 4484\n"
     ]
    },
    {
     "data": {
      "image/png": "[encoded data removed]",
      "text/plain": [
       "<Figure size 432x288 with 1 Axes>"
      ]
     },
     "metadata": {},
     "output_type": "display_data"
    },
    {
     "name": "stdout",
     "output_type": "stream",
     "text": [
      "Summary statistics of above graph\n",
      "            series\n",
      "count  4484.000000\n",
      "mean     23.950714\n",
      "std     117.785328\n",
      "min       1.000000\n",
      "25%       1.000000\n",
      "50%       3.000000\n",
      "75%      11.000000\n",
      "max    4485.000000\n",
      "Statistics on number of ingredients per recipe:\n",
      "Average number of ingredients per recipe: 10.7999798874\n",
      "Std. dev. number of ingredients per recipe: 4.46692907371\n",
      "            series\n",
      "count  9944.000000\n",
      "mean     10.799980\n",
      "std       4.467154\n",
      "min       1.000000\n",
      "25%       8.000000\n",
      "50%      10.000000\n",
      "75%      13.000000\n",
      "max      50.000000\n"
     ]
    }
   ],
   "source": [
    "import json\n",
    "import numpy as np\n",
    "\n",
    "ingredients = set()\n",
    "ingredient_count_map = {}\n",
    "num_ingredients_per_recipe = []\n",
    "\n",
    "def show_hist_of_dict(count_map, y_label, x_label):\n",
    "    import matplotlib.pyplot as plt\n",
    "    % matplotlib inline\n",
    "    fig, ax = plt.subplots(1, 1)\n",
    "    ax.set_xlabel(x_label)\n",
    "    ax.set_ylabel(y_label)\n",
    "    ax.hist(count_map.values(), ec='black')\n",
    "    plt.show()\n",
    "    \n",
    "    # print summary statistics\n",
    "    print('Summary statistics of above graph')\n",
    "    import pandas as pd\n",
    "    series = {'series': pd.Series(count_map.values())}\n",
    "    data_frame = pd.DataFrame(series)\n",
    "    print(data_frame.describe())\n",
    "\n",
    "\n",
    "with open('whats-cooking/test.json', 'r') as file:\n",
    "    data = json.load(file)\n",
    "    \n",
    "    # print number of recipes\n",
    "    print('Total number of recipes: {}'.format(len(data)))\n",
    "    \n",
    "    for recipe in data:\n",
    "            \n",
    "        # stats on number of ingredients\n",
    "        num_ingredients_per_recipe.append(len(recipe['ingredients']))\n",
    "        for ingredient in recipe['ingredients']:\n",
    "            ingredients.add(ingredient)\n",
    "            \n",
    "            if ingredient not in ingredient_count_map:\n",
    "                ingredient_count_map[ingredient] = 0\n",
    "            ingredient_count_map[ingredient] += 1\n",
    "    \n",
    "    print('Number of ingredients: {}'.format(len(ingredients)))\n",
    "    \n",
    "    # show histogram of ingredients and cuisines\n",
    "    show_hist_of_dict(ingredient_count_map, '# of ingredients', '# of occurrences')\n",
    "    \n",
    "    # print average number of ingredients per recipe\n",
    "    print('Statistics on number of ingredients per recipe:')\n",
    "    print('Average number of ingredients per recipe: {}'.format(np.mean(num_ingredients_per_recipe)))\n",
    "    print('Std. dev. number of ingredients per recipe: {}'.format(np.std(num_ingredients_per_recipe)))\n",
    "    import pandas as pd\n",
    "    series = {'series': pd.Series(num_ingredients_per_recipe)}\n",
    "    data_frame = pd.DataFrame(series)\n",
    "    print(data_frame.describe())"
   ]
  },
  {
   "cell_type": "markdown",
   "metadata": {},
   "source": [
    "### Create a separate train-test split from original train data"
   ]
  },
  {
   "cell_type": "markdown",
   "metadata": {},
   "source": [
    "Although we will evaluate results of each model on Kaggle's hidden test set, we here would also create a separate train-test split using the training set from Kaggle so that we can do our own analysis properly. This is necessary since Kaggle's test set is hidden and we don't have access to it, so we can only get the accuracy result on that by submitting on Kaggle and no other metric can be evaluated as such; but if we create our own train-test split we can do a more in-depth analysis"
   ]
  },
  {
   "cell_type": "code",
   "execution_count": 2,
   "metadata": {},
   "outputs": [],
   "source": [
    "import random\n",
    "import json\n",
    "\n",
    "# ratio of original data to be held out\n",
    "test_percent = 0.3\n",
    "\n",
    "with open('whats-cooking/train.json', 'r') as file:\n",
    "    data = json.load(file)\n",
    "    random.shuffle(data)\n",
    "    \n",
    "    test_len = int(test_percent * len(data))\n",
    "    test_split = data[:test_len]\n",
    "    train_split = data[test_len:]\n",
    "    \n",
    "    with open('my_train_split.json', 'w') as outfile:\n",
    "        json.dump(train_split, outfile, indent=4)\n",
    "    with open('my_test_split.json', 'w') as outfile:\n",
    "        json.dump(test_split, outfile, indent=4)"
   ]
  },
  {
   "cell_type": "code",
   "execution_count": 4,
   "metadata": {},
   "outputs": [
    {
     "name": "stdout",
     "output_type": "stream",
     "text": [
      "my_train_split.json has 27842 entries\n",
      "my_test_split.json has 11932 entries\n",
      "whats-cooking/train.json has 39774 entries\n"
     ]
    }
   ],
   "source": [
    "# cross-check\n",
    "files = ['my_train_split.json', 'my_test_split.json', 'whats-cooking/train.json']\n",
    "\n",
    "for filename in files:\n",
    "    with open(filename, 'r') as infile:\n",
    "        data = json.load(infile)\n",
    "        print('{} has {} entries'.format(filename, len(data)))"
   ]
  },
  {
   "cell_type": "markdown",
   "metadata": {},
   "source": [
    "### Baseline"
   ]
  },
  {
   "cell_type": "markdown",
   "metadata": {},
   "source": [
    "#### Baseline #1\n",
    "For each ingredient belonging to the given test ingredient list, find the cuisine in which this ingredient is used the most. Among all such cuisines, pick the most frequently occurring cuisine"
   ]
  },
  {
   "cell_type": "code",
   "execution_count": null,
   "metadata": {},
   "outputs": [],
   "source": [
    "import json\n",
    "\n",
    "class Baseline_1_Model:\n",
    "    def train(self, train_file):\n",
    "        "
   ]
  },
  {
   "cell_type": "code",
   "execution_count": 33,
   "metadata": {},
   "outputs": [],
   "source": [
    "import json\n",
    "\n",
    "ingredient_cuisine_count_map = {}\n",
    "ingredients = set()\n",
    "\n",
    "with open('whats-cooking/train.json', 'r') as file:\n",
    "    data = json.load(file)    \n",
    "    \n",
    "    for recipe in data:\n",
    "        for ingredient in recipe['ingredients']:  \n",
    "            ingredients.add(ingredient)\n",
    "            if ingredient not in ingredient_cuisine_count_map:\n",
    "                ingredient_cuisine_count_map[ingredient] = {}\n",
    "            if recipe['cuisine'] not in ingredient_cuisine_count_map[ingredient]:\n",
    "                ingredient_cuisine_count_map[ingredient][recipe['cuisine']] = 0\n",
    "            ingredient_cuisine_count_map[ingredient][recipe['cuisine']] += 1"
   ]
  },
  {
   "cell_type": "code",
   "execution_count": 34,
   "metadata": {},
   "outputs": [],
   "source": [
    "import operator\n",
    "\n",
    "def most_common(lst):\n",
    "    return max(set(lst), key=lst.count)\n",
    "\n",
    "def most_used_cuisine_of_ingredient(ingredient):\n",
    "    return max(ingredient_cuisine_count_map[ingredient].iteritems(), key=operator.itemgetter(1))[0]\n",
    "    \n",
    "# Baseline 1\n",
    "with open('baseline_1_submission.csv', 'w') as out_file:\n",
    "    out_file.write('id,cuisine\\n')\n",
    "    with open('whats-cooking/test.json', 'r') as file:\n",
    "        data = json.load(file)\n",
    "        for recipe in data:\n",
    "            candidate_cuisines = []\n",
    "            for ingredient in recipe['ingredients']:\n",
    "                if ingredient not in ingredients:\n",
    "                    # skip if unseen during training\n",
    "                    continue\n",
    "                candidate_cuisines.append(most_used_cuisine_of_ingredient(ingredient))\n",
    "            prediction = most_common(candidate_cuisines)\n",
    "\n",
    "            out_file.write('{},{}\\n'.format(recipe['id'], prediction))"
   ]
  },
  {
   "cell_type": "markdown",
   "metadata": {},
   "source": [
    "Submitted the results of above baseline on Kaggle and got a an accuracy of 53.04%"
   ]
  },
  {
   "cell_type": "code",
   "execution_count": null,
   "metadata": {},
   "outputs": [],
   "source": []
  }
 ],
 "metadata": {
  "kernelspec": {
   "display_name": "Python 2",
   "language": "python",
   "name": "python2"
  },
  "language_info": {
   "codemirror_mode": {
    "name": "ipython",
    "version": 2
   },
   "file_extension": ".py",
   "mimetype": "text/x-python",
   "name": "python",
   "nbconvert_exporter": "python",
   "pygments_lexer": "ipython2",
   "version": "2.7.14"
  }
 },
 "nbformat": 4,
 "nbformat_minor": 2
}
